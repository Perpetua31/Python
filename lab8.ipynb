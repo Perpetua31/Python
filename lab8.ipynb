{
 "cells": [
  {
   "cell_type": "code",
   "execution_count": 49,
   "id": "78a274df-ec84-4a21-a822-02c81016e848",
   "metadata": {},
   "outputs": [
    {
     "name": "stdout",
     "output_type": "stream",
     "text": [
      "Dates found:  ['12-12-2000', '03/25/2018', 'April 1, 2022']\n"
     ]
    }
   ],
   "source": [
    "# QUESTION 1 \n",
    "\n",
    "import re\n",
    "text = \"Sam was born on 12-12-2000. He moved to California on 03/25/2018. On April 1, 2022 he moved back to New York.\"\n",
    "\n",
    "# Using regular expressions to find dates\n",
    "\n",
    " # dates in format 00-00-0000\n",
    "regex1 = r'\\b\\d{2}-\\d{2}-\\d{4}\\b'     \n",
    "\n",
    "# dates in format 00/00/000\n",
    "regex2 = r'\\b\\d{2}/\\d{2}/\\d{4}\\b'   \n",
    "\n",
    "# dates in format month day,year (like April 1,2022)\n",
    "regex3 = r'\\b(?:January|February|March|April|May|June|July|August|September|October|November|December) \\d{1,2}, \\d{4}\\b'\n",
    "\n",
    "# find dates \n",
    "dates1 = re.findall(regex1, text)\n",
    "dates2 = re.findall(regex2, text)\n",
    "dates3 = re.findall(regex3, text)\n",
    "\n",
    "# Combine all found dates into one list\n",
    "dates = dates1 + dates2 + dates3\n",
    "\n",
    "print(\"Dates found: \" , dates)\n"
   ]
  },
  {
   "cell_type": "code",
   "execution_count": 50,
   "id": "91798b46-4eb9-45fd-bc62-b15b8d3a9fd6",
   "metadata": {},
   "outputs": [],
   "source": [
    "### Why Using Regular Expressions for Dates Can Be Problematic?\n",
    "\n",
    "#Using regular expressions to find dates can be challenging because dates can appear in many formats and vary by country. \n"
   ]
  },
  {
   "cell_type": "code",
   "execution_count": 51,
   "id": "2a570829-43a6-4491-b930-08ad35dc296d",
   "metadata": {},
   "outputs": [
    {
     "name": "stdout",
     "output_type": "stream",
     "text": [
      "Emails found: ['gr1234@columbia.edu', 'grizzly.bear@cs.columbia.edu', 'summer_rain@gmail.com', 'lester@hotmail.co.uk']\n"
     ]
    }
   ],
   "source": [
    "# QUESTION 2\n",
    "\n",
    "import re\n",
    "\n",
    "text1 = \"\"\" Looking for a new apartment starting in June. Email gr1234@columbia.edu.\n",
    "Selling a brand new couch. Email for pictures grizzly.bear@cs.columbia.edu.\n",
    "Looking for a Halloween costume. Email summer_rain@gmail.com.\n",
    "I have extra Air pods I am giving out for free. My email is lester@hotmail.co.uk.\"\"\"\n",
    "\n",
    "# Using regular expressions to find the emails\n",
    "regex_email = r'[a-zA-Z0-9._]+@[a-zA-Z0-9.]+\\.[a-zA-Z]{2,}'\n",
    "\n",
    "# Find emails\n",
    "emails = re.findall(regex_email, text1)\n",
    "\n",
    "# Print the extracted emails\n",
    "print(\"Emails found:\", emails)\n"
   ]
  },
  {
   "cell_type": "code",
   "execution_count": 63,
   "id": "04751c1c-f11f-4dc0-b409-696a83fe738d",
   "metadata": {},
   "outputs": [
    {
     "name": "stdout",
     "output_type": "stream",
     "text": [
      "New text: Sam was born on $$$$$$$$$$. He moved to California on $$$$$$$$$$. On $$$$$$$$$$$$$ he moved back to New York.\n"
     ]
    }
   ],
   "source": [
    "#QUESTION 3\n",
    "\n",
    "import re\n",
    "\n",
    "# Function to replace all dates\n",
    "def dollar_signs(replace):\n",
    "    return \"$\" * len(replace.group(0))\n",
    "\n",
    "# Replace dates by dollar signs\n",
    "new_text = re.sub(regex1, dollar_signs, text)\n",
    "new_text = re.sub(regex2, dollar_signs, new_text)\n",
    "new_text = re.sub(regex3, dollar_signs, new_text)\n",
    "\n",
    "# Print the modified text\n",
    "print(\"New text:\", new_text)\n"
   ]
  },
  {
   "cell_type": "code",
   "execution_count": 1,
   "id": "0105adaf-17ae-48a8-8002-fae5a796d592",
   "metadata": {},
   "outputs": [
    {
     "name": "stdout",
     "output_type": "stream",
     "text": [
      "Sam PERSON\n",
      "12-12-2000 DATE\n",
      "California GPE\n",
      "03/25/2018 DATE\n",
      "April 1, 2022 DATE\n",
      "New York GPE\n"
     ]
    }
   ],
   "source": [
    "#QUESTION 4\n",
    "\n",
    "import spacy\n",
    "\n",
    "# Load the English language model\n",
    "nlp = spacy.load(\"en_core_web_sm\")\n",
    "\n",
    "# Input text\n",
    "TEXT = \"Sam was born on 12-12-2000. He moved to California on 03/25/2018. On April 1, 2022 he moved back to New York.\"\n",
    "\n",
    "# Process the text with SpaCy\n",
    "doc = nlp(TEXT)\n",
    "\n",
    "# Extract and print named entities\n",
    "for ent in doc.ents:\n",
    "    print(ent.text, ent.label_)\n"
   ]
  },
  {
   "cell_type": "code",
   "execution_count": null,
   "id": "550fcc64-0fb4-4473-91a5-4c77b83f901e",
   "metadata": {},
   "outputs": [],
   "source": []
  }
 ],
 "metadata": {
  "kernelspec": {
   "display_name": "Python 3 (ipykernel)",
   "language": "python",
   "name": "python3"
  },
  "language_info": {
   "codemirror_mode": {
    "name": "ipython",
    "version": 3
   },
   "file_extension": ".py",
   "mimetype": "text/x-python",
   "name": "python",
   "nbconvert_exporter": "python",
   "pygments_lexer": "ipython3",
   "version": "3.10.15"
  }
 },
 "nbformat": 4,
 "nbformat_minor": 5
}
