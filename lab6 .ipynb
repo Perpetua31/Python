{
 "cells": [
  {
   "cell_type": "code",
   "execution_count": 1,
   "id": "00894af3-11f1-481d-bf77-3ac0bb196d23",
   "metadata": {},
   "outputs": [
    {
     "name": "stdout",
     "output_type": "stream",
     "text": [
      "{'name': 'Mickey', 'email': 'mickey@magickingdom'} {'name': 'Sarie', 'email': 'sarie@gmail.com'}\n",
      "{'Mickey': {'name': 'Mickey', 'email': 'mickey@magickingdom'}, 'Sarie': {'name': 'Sarie', 'email': 'sarie@gmail.com'}}\n",
      "\n",
      "Mickey's email is :  mickey@magickingdom\n"
     ]
    }
   ],
   "source": [
    "# create a single dictionary (d1)\n",
    "d1 = {'name':'Mickey','email':'mickey@magickingdom'}\n",
    "\n",
    "#create a second dictionary (d2)\n",
    "d2 = {'name':'Sarie','email':'sarie@gmail.com'}\n",
    "\n",
    "#print both dictionaries\n",
    "print(d1 , d2)\n",
    "\n",
    "#create a super dictionary\n",
    "contacts = {d1['name']:d1 , d2['name']:d2}\n",
    "print(contacts)\n",
    "print (\"\\nMickey's email is : \",contacts['Mickey']['email'])"
   ]
  },
  {
   "cell_type": "code",
   "execution_count": 2,
   "id": "bc392be8-ab87-4fc4-87ac-46dad67f1f93",
   "metadata": {},
   "outputs": [],
   "source": [
    "# open the file in write mode and store it in contacts.json\n",
    "\n",
    "import json\n",
    "\n",
    "with open ('contacts.json','w') as f:\n",
    "    json.dump(contacts,f)"
   ]
  },
  {
   "cell_type": "code",
   "execution_count": 3,
   "id": "ead39862-b5d8-4ea9-85d2-67b3d20b63a3",
   "metadata": {},
   "outputs": [],
   "source": [
    "# read the information into a new dictionary\n",
    "\n",
    "import json\n",
    "\n",
    "with open ('contacts.json','r') as f:\n",
    "    new_contacts = json.load(f)"
   ]
  },
  {
   "cell_type": "code",
   "execution_count": 4,
   "id": "e008df22-a1c2-42f1-87ab-37f800865a74",
   "metadata": {},
   "outputs": [
    {
     "name": "stdout",
     "output_type": "stream",
     "text": [
      "{'Mickey': {'name': 'Mickey', 'email': 'mickey@magickingdom'}, 'Sarie': {'name': 'Sarie', 'email': 'p.sarie@gmail.com'}, 'Perp': {'name': 'Perp', 'email': 'perp@gmail.com'}}\n"
     ]
    }
   ],
   "source": [
    "# modify new_contacts and store the modified collection of contacts\n",
    "\n",
    "import json\n",
    "\n",
    "#change email from sarie to p.sarie\n",
    "new_contacts['Sarie']['email'] = 'p.sarie@gmail.com'\n",
    "\n",
    "#add a third contact \n",
    "d3 = {'name':'Perp', 'email':'perp@gmail.com'}\n",
    "new_contacts[d3['name']] = d3\n",
    "\n",
    "print(new_contacts)\n",
    "\n",
    "with open('contacts.json','w') as f:\n",
    "    json.dump(new_contacts,f)"
   ]
  }
 ],
 "metadata": {
  "kernelspec": {
   "display_name": "base",
   "language": "python",
   "name": "python3"
  },
  "language_info": {
   "codemirror_mode": {
    "name": "ipython",
    "version": 3
   },
   "file_extension": ".py",
   "mimetype": "text/x-python",
   "name": "python",
   "nbconvert_exporter": "python",
   "pygments_lexer": "ipython3",
   "version": "3.12.4"
  }
 },
 "nbformat": 4,
 "nbformat_minor": 5
}
